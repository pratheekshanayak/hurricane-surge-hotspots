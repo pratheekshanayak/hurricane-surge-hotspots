{
 "cells": [
  {
   "cell_type": "markdown",
   "id": "c774490a-8c0c-489a-8fc2-26330225f20b",
   "metadata": {},
   "source": [
    "# Project Assignment 3\n",
    "### Pratheeksha Nayak"
   ]
  },
  {
   "cell_type": "markdown",
   "id": "c02e4d1b-c391-4b3a-b63d-3d99f3fd9396",
   "metadata": {},
   "source": [
    "## Identifying hotspots of vulnerability during hurricane storm-surge inundation (Python implementation)"
   ]
  },
  {
   "cell_type": "markdown",
   "id": "e78c990e-4de9-43ed-bd39-303ab220350f",
   "metadata": {},
   "source": [
    "#### Motivation\n",
    "\n",
    "- Storm surges during hurricanes can cause significant flooding in coastal and inland regions resulting in damage to property and loss of life. \n",
    "- Identifying regions that are most vulnerable to such damage is essential for improving disaster response and building community resilience.\n",
    "- Timely evacuation during such disasters are crucial for saving lives and understanding the impact on infrastructure can help better planning and preparedness."
   ]
  },
  {
   "cell_type": "markdown",
   "id": "2e562fcd-c52d-451a-a046-08ddc8d7bb62",
   "metadata": {},
   "source": [
    "#### Approach\n",
    "\n",
    "In this project, a comprehensive two-part analysis is conducted to understand the impact of storm-surge inundation:\n",
    "\n",
    "1. **For Planners / Government Agencies**: The first part focuses on providing spatial information for planners and government agencies. It utilizes choropleth maps to visually depict the distribution of populations affected by storm surges across various census tracts of Washington, DC. The data mapped includes key demographic, economic and housing characteristics such as total population, median age, population segments over 65 and under 10 years of age, total housing units, housing units built before 1950, median income, and the percentage of the population living below the poverty level. These visualizations are designed to help decision-makers prioritize resources and tailor their response strategies for different categories of storms, thus enabling a more effective, data-driven approach to disaster preparedness and mitigation.\n",
    "\n",
    "2. **For Citizens**: The second part adopts a citizen-centric approach, aiming to empower individuals with actionable information in the event of a storm. By allowing users to input a specific point location, the analysis identifies the category of storm that would affect that area. It also shows the pharmacies within a one-mile radius, highlighting those that would be inundated by storm surge waters. This information can be vital for individuals needing access to essential services like pharmacies during emergencies.\n"
   ]
  },
  {
   "cell_type": "markdown",
   "id": "73aa51b0-334a-437f-a6b0-86b7fa9b87c9",
   "metadata": {},
   "source": [
    "***"
   ]
  },
  {
   "cell_type": "markdown",
   "id": "49ee4ba4-a415-47c6-a9c6-d557ceac00b9",
   "metadata": {},
   "source": [
    "### Part 1: For Planners / Government Agencies"
   ]
  },
  {
   "cell_type": "markdown",
   "id": "895e9c9f-34c2-4b29-8ca5-5f71cce81c8b",
   "metadata": {},
   "source": [
    "#### Data Sources\n",
    "\n",
    "1. **Storm surge risk areas(category-wise) in DC**:\n",
    "- Source: Open Data DC portal ((https://opendata.dc.gov/)).\n",
    "- This data contains shapefiles that give areas in DC that are at risk of inundation for different categories of storms. \n",
    "- It uses the SLOSH (Sea, Lake and Overland Surge from Hurricanes) model by NOAA. It simulates storm-surge heights and extents by utilizing tens of thousands of hypothetical storms across 27 basins along the east and gulf coasts of the United States. Parameters such as storm intensity, direction, landfall location, wind etc. are varied for different categories of storms to generate the results.\n",
    "\n",
    "2. **ACS 5-year data for DC census tracts**:\n",
    "- Source: U.S.Census Bureau, American Community Survey (ACS) data in Open Data DC portal.\n",
    "- This data contains shapefiles of census data that include information on population, housing etc. within each census tract in DC.\n",
    "- 3 categories of data were used:\n",
    "    - <u>Demographic</u>: Total population, Median age in years, Population over 65 years, Population under 10 years\n",
    "    - <u>Economic</u>: Median income in dollars, Percentage below poverty level\n",
    "    - <u>Housing</u>: Total housing units, Housing units built before 1950\n",
    "- Integrating the output of SLOSH model with socio-economic data can provide valuable insights into the affected regions. They can help identify populations at highest risk and help in guiding evacuation efforts and prioritizing resource allocation."
   ]
  },
  {
   "cell_type": "code",
   "execution_count": 1,
   "id": "761adf53-0183-4aa1-a2dd-8b624cd1efe4",
   "metadata": {},
   "outputs": [],
   "source": [
    "#Import required libraries\n",
    "\n",
    "import matplotlib.pyplot as plt\n",
    "import pandas as pd\n",
    "from geopandas import read_file, gpd\n",
    "import folium\n",
    "import ipywidgets as widgets\n",
    "from IPython.display import display"
   ]
  },
  {
   "cell_type": "markdown",
   "id": "6c1c80ec-b6d3-47d9-947c-485df06fba98",
   "metadata": {},
   "source": [
    "#### Storm surge Risk Areas data"
   ]
  },
  {
   "cell_type": "code",
   "execution_count": 2,
   "id": "329e6570-f430-4ece-9cdb-833e34e7ba85",
   "metadata": {},
   "outputs": [],
   "source": [
    "input_file = './Data/StormSurgeRiskAreas/Storm_Surge_Risk_Areas.shp'\n",
    "surge = gpd.read_file(input_file)\n",
    "# surge.tail()"
   ]
  },
  {
   "cell_type": "code",
   "execution_count": 3,
   "id": "e305219b-990c-4619-921e-b31547596dab",
   "metadata": {},
   "outputs": [
    {
     "name": "stdout",
     "output_type": "stream",
     "text": [
      "epsg:4326\n"
     ]
    },
    {
     "data": {
      "text/html": [
       "<div>\n",
       "<style scoped>\n",
       "    .dataframe tbody tr th:only-of-type {\n",
       "        vertical-align: middle;\n",
       "    }\n",
       "\n",
       "    .dataframe tbody tr th {\n",
       "        vertical-align: top;\n",
       "    }\n",
       "\n",
       "    .dataframe thead th {\n",
       "        text-align: right;\n",
       "    }\n",
       "</style>\n",
       "<table border=\"1\" class=\"dataframe\">\n",
       "  <thead>\n",
       "    <tr style=\"text-align: right;\">\n",
       "      <th></th>\n",
       "      <th>HES_ZONE</th>\n",
       "      <th>CONTOURLEN</th>\n",
       "      <th>GIS_ID</th>\n",
       "      <th>TARGET_FID</th>\n",
       "      <th>JOIN_COUNT</th>\n",
       "      <th>GLOBALID</th>\n",
       "      <th>CREATOR</th>\n",
       "      <th>CREATED</th>\n",
       "      <th>EDITOR</th>\n",
       "      <th>EDITED</th>\n",
       "      <th>OBJECTID</th>\n",
       "      <th>SHAPEAREA</th>\n",
       "      <th>SHAPELEN</th>\n",
       "      <th>geometry</th>\n",
       "    </tr>\n",
       "  </thead>\n",
       "  <tbody>\n",
       "    <tr>\n",
       "      <th>14</th>\n",
       "      <td>4</td>\n",
       "      <td>1.038773e+04</td>\n",
       "      <td>WaterSurgePly_15</td>\n",
       "      <td>2512</td>\n",
       "      <td>1</td>\n",
       "      <td>{BAE713E3-84EE-4146-9221-7024967C1AF5}</td>\n",
       "      <td>None</td>\n",
       "      <td>None</td>\n",
       "      <td>None</td>\n",
       "      <td>None</td>\n",
       "      <td>15</td>\n",
       "      <td>0</td>\n",
       "      <td>0</td>\n",
       "      <td>POLYGON Z ((-77.03744 38.87997 0.00000, -77.03...</td>\n",
       "    </tr>\n",
       "    <tr>\n",
       "      <th>15</th>\n",
       "      <td>2</td>\n",
       "      <td>8.843568e+03</td>\n",
       "      <td>WaterSurgePly_16</td>\n",
       "      <td>2440</td>\n",
       "      <td>1</td>\n",
       "      <td>{30D8719E-77A6-4E2F-BF43-3B56E898B408}</td>\n",
       "      <td>None</td>\n",
       "      <td>None</td>\n",
       "      <td>None</td>\n",
       "      <td>None</td>\n",
       "      <td>16</td>\n",
       "      <td>0</td>\n",
       "      <td>0</td>\n",
       "      <td>POLYGON Z ((-76.99782 38.86592 0.00000, -76.99...</td>\n",
       "    </tr>\n",
       "    <tr>\n",
       "      <th>16</th>\n",
       "      <td>2</td>\n",
       "      <td>2.722179e+07</td>\n",
       "      <td>WaterSurgePly_17</td>\n",
       "      <td>5273</td>\n",
       "      <td>1</td>\n",
       "      <td>{98DE8302-25A5-40E5-8C22-C294E8CA1FBB}</td>\n",
       "      <td>None</td>\n",
       "      <td>None</td>\n",
       "      <td>None</td>\n",
       "      <td>None</td>\n",
       "      <td>17</td>\n",
       "      <td>0</td>\n",
       "      <td>0</td>\n",
       "      <td>MULTIPOLYGON Z (((-77.02075 38.81607 0.00000, ...</td>\n",
       "    </tr>\n",
       "    <tr>\n",
       "      <th>17</th>\n",
       "      <td>5</td>\n",
       "      <td>7.537968e+03</td>\n",
       "      <td>WaterSurgePly_18</td>\n",
       "      <td>2311</td>\n",
       "      <td>1</td>\n",
       "      <td>{D63F9A96-01FF-4640-ACA2-89AEE84740F4}</td>\n",
       "      <td>None</td>\n",
       "      <td>None</td>\n",
       "      <td>None</td>\n",
       "      <td>None</td>\n",
       "      <td>18</td>\n",
       "      <td>0</td>\n",
       "      <td>0</td>\n",
       "      <td>POLYGON Z ((-77.02122 38.84051 0.00000, -77.02...</td>\n",
       "    </tr>\n",
       "    <tr>\n",
       "      <th>18</th>\n",
       "      <td>1</td>\n",
       "      <td>9.075484e+03</td>\n",
       "      <td>WaterSurgePly_19</td>\n",
       "      <td>2222</td>\n",
       "      <td>1</td>\n",
       "      <td>{2B16A555-F720-40F0-B25C-C3EE86A5BF9D}</td>\n",
       "      <td>None</td>\n",
       "      <td>None</td>\n",
       "      <td>None</td>\n",
       "      <td>None</td>\n",
       "      <td>19</td>\n",
       "      <td>0</td>\n",
       "      <td>0</td>\n",
       "      <td>POLYGON Z ((-77.02183 38.81387 0.00000, -77.02...</td>\n",
       "    </tr>\n",
       "  </tbody>\n",
       "</table>\n",
       "</div>"
      ],
      "text/plain": [
       "    HES_ZONE    CONTOURLEN            GIS_ID  TARGET_FID  JOIN_COUNT  \\\n",
       "14         4  1.038773e+04  WaterSurgePly_15        2512           1   \n",
       "15         2  8.843568e+03  WaterSurgePly_16        2440           1   \n",
       "16         2  2.722179e+07  WaterSurgePly_17        5273           1   \n",
       "17         5  7.537968e+03  WaterSurgePly_18        2311           1   \n",
       "18         1  9.075484e+03  WaterSurgePly_19        2222           1   \n",
       "\n",
       "                                  GLOBALID CREATOR CREATED EDITOR EDITED  \\\n",
       "14  {BAE713E3-84EE-4146-9221-7024967C1AF5}    None    None   None   None   \n",
       "15  {30D8719E-77A6-4E2F-BF43-3B56E898B408}    None    None   None   None   \n",
       "16  {98DE8302-25A5-40E5-8C22-C294E8CA1FBB}    None    None   None   None   \n",
       "17  {D63F9A96-01FF-4640-ACA2-89AEE84740F4}    None    None   None   None   \n",
       "18  {2B16A555-F720-40F0-B25C-C3EE86A5BF9D}    None    None   None   None   \n",
       "\n",
       "    OBJECTID  SHAPEAREA  SHAPELEN  \\\n",
       "14        15          0         0   \n",
       "15        16          0         0   \n",
       "16        17          0         0   \n",
       "17        18          0         0   \n",
       "18        19          0         0   \n",
       "\n",
       "                                             geometry  \n",
       "14  POLYGON Z ((-77.03744 38.87997 0.00000, -77.03...  \n",
       "15  POLYGON Z ((-76.99782 38.86592 0.00000, -76.99...  \n",
       "16  MULTIPOLYGON Z (((-77.02075 38.81607 0.00000, ...  \n",
       "17  POLYGON Z ((-77.02122 38.84051 0.00000, -77.02...  \n",
       "18  POLYGON Z ((-77.02183 38.81387 0.00000, -77.02...  "
      ]
     },
     "execution_count": 3,
     "metadata": {},
     "output_type": "execute_result"
    }
   ],
   "source": [
    "surge['HES_ZONE'].replace(99, 5, inplace=True)\n",
    "print(surge.crs)\n",
    "surge.tail()"
   ]
  },
  {
   "cell_type": "code",
   "execution_count": null,
   "id": "ef3c42a6-5625-49e4-9da2-deb521153c60",
   "metadata": {},
   "outputs": [],
   "source": [
    "center_lat, center_lon = 38.905996,-77.043686\n",
    "m1 = folium.Map(location=[center_lat, center_lon], tiles=\"CartoDB positron\", zoom_start=12)\n",
    "for i in range(1,6):\n",
    "    m1 = surge[surge['HES_ZONE']==i].explore(m=m1, name=f\"category {i}\")\n",
    "folium.LayerControl().add_to(m1)\n",
    "m1"
   ]
  },
  {
   "cell_type": "markdown",
   "id": "1076de42-4965-43d3-92d6-323d57cf0d26",
   "metadata": {},
   "source": [
    "#### ACS data for DC census tracts"
   ]
  },
  {
   "cell_type": "code",
   "execution_count": null,
   "id": "ab01cee8-adfa-4df5-966b-a686cf5c4ac0",
   "metadata": {},
   "outputs": [],
   "source": [
    "#Demographic\n",
    "input_file_1 = './Data/ACS_Demographic/ACS_5-Year_Demographic_Characteristics_DC_Census_Tract.shp'\n",
    "acs_demographic = gpd.read_file(input_file_1)\n",
    "\n",
    "#Economic\n",
    "input_file_2 = './Data/ACS_Economic/ACS_5-Year_Economic_Characteristics_DC_Census_Tract.shp'\n",
    "acs_economic = gpd.read_file(input_file_2)\n",
    "\n",
    "#Housing\n",
    "input_file_3 = './Data/ACS_Housing/ACS_5-Year_Housing_Characteristics_DC_Census_Tract.shp'\n",
    "acs_housing = gpd.read_file(input_file_3)"
   ]
  },
  {
   "cell_type": "code",
   "execution_count": null,
   "id": "56110213-8256-4bf1-b6ca-ca068da2fab7",
   "metadata": {},
   "outputs": [],
   "source": [
    "# Check projections\n",
    "print('Demographic:', acs_demographic.crs)\n",
    "print('Economic:', acs_economic.crs)\n",
    "print('Housing:', acs_housing.crs)"
   ]
  },
  {
   "cell_type": "code",
   "execution_count": null,
   "id": "b85fd4a2-73e2-4aec-927d-e00faf0b3fc7",
   "metadata": {},
   "outputs": [],
   "source": [
    "# Inspect the demographic data\n",
    "acs_demographic.head()"
   ]
  },
  {
   "cell_type": "markdown",
   "id": "88e954a6-54d3-44a0-8d63-7310a51b17f0",
   "metadata": {},
   "source": [
    "#### Data Cleaning\n",
    "\n",
    "- For the 3 ACS datasets:\n",
    "    - Identify attributes of interest and filter the data.\n",
    "    - Rename attributes to have more understandable names.\n",
    "    - Feature engineering to create new columns that are relevant to the study.\n",
    "    - Drop redundant columns.\n",
    "- Merge the 3 ACS datasets to get one final dataset based on GEOID.\n",
    "- Drop columns will null values.\n"
   ]
  },
  {
   "cell_type": "code",
   "execution_count": null,
   "id": "05885846-a967-4327-acbb-168fc84196b7",
   "metadata": {},
   "outputs": [],
   "source": [
    "demographic = acs_demographic[['GEOID', 'geometry', 'DP05_0001E', 'DP05_0018E', 'DP05_0005E', 'DP05_0006E', 'DP05_0024E']]\n",
    "demographic = demographic.rename(columns ={'DP05_0001E':'total_pop', 'DP05_0018E':'median_age', 'DP05_0005E':'pop_under_5', 'DP05_0006E':'pop_5_9', 'DP05_0024E':'pop_over_65'})\n",
    "demographic['pop_under_10'] = demographic['pop_under_5'] + demographic['pop_5_9']\n",
    "demographic.drop(columns=['pop_under_5', 'pop_5_9'], inplace=True)\n",
    "demographic"
   ]
  },
  {
   "cell_type": "code",
   "execution_count": null,
   "id": "426f6a32-215d-4eb2-bf9d-2b90fd9edfac",
   "metadata": {},
   "outputs": [],
   "source": [
    "# acs_economic.head()"
   ]
  },
  {
   "cell_type": "code",
   "execution_count": null,
   "id": "6a5536d7-5002-45f8-9e7e-8edbe18327bd",
   "metadata": {},
   "outputs": [],
   "source": [
    "economic = acs_economic[['GEOID', 'geometry', 'DP03_0062E', 'DP03_0119P']]\n",
    "economic = economic.rename(columns ={'DP03_0062E':'median_income', 'DP03_0119P':'percent_below_poverty', 'DP05_0005E':'pop_under_5', 'DP05_0006E':'pop_5_9', 'DP05_0024E':'pop_over_65'})\n",
    "economic"
   ]
  },
  {
   "cell_type": "code",
   "execution_count": null,
   "id": "25fac31f-d47e-4120-b0bd-b02f2ae24cc0",
   "metadata": {},
   "outputs": [],
   "source": [
    "# acs_housing.head()"
   ]
  },
  {
   "cell_type": "code",
   "execution_count": null,
   "id": "a596584e-ac00-499a-a819-8793c0d916da",
   "metadata": {},
   "outputs": [],
   "source": [
    "housing = acs_housing[['GEOID', 'geometry', 'DP04_0001E', 'DP04_0025E', 'DP04_0026E']]\n",
    "housing = housing.rename(columns ={'DP04_0001E':'total_units', 'DP04_0025E':'built_1949_1940', 'DP04_0026E':'built_before_1940'})\n",
    "housing['built_before_1950'] = housing['built_1949_1940'] + housing['built_before_1940']\n",
    "housing.drop(columns=['built_1949_1940', 'built_before_1940'], inplace=True)\n",
    "housing"
   ]
  },
  {
   "cell_type": "code",
   "execution_count": null,
   "id": "223dad4e-7e58-435d-92be-fd9c640dcc81",
   "metadata": {},
   "outputs": [],
   "source": [
    "# Combine the ACS datasets\n",
    "merged_data = demographic.merge(economic, on=['GEOID', 'geometry'])\n",
    "acs_data = merged_data.merge(housing, on=['GEOID', 'geometry'])\n",
    "acs_data.dropna(inplace=True)\n",
    "acs_data.head()"
   ]
  },
  {
   "cell_type": "code",
   "execution_count": null,
   "id": "8b8a2c13-ffa3-4bf6-974f-a3edd3baa70a",
   "metadata": {},
   "outputs": [],
   "source": [
    "# Visualize the total population in each DC census tract\n",
    "ax = acs_data.plot(figsize=(15, 10), column='total_pop', legend='true')"
   ]
  },
  {
   "cell_type": "markdown",
   "id": "b918d1ef-2d8c-4ec7-8ca0-39f1fdd62516",
   "metadata": {},
   "source": [
    "#### Data Analysis\n",
    "\n",
    "- Surge Areas: The shapefile gives areas at the highest risk of inundation for a given category and higher storms. The assumption is made that if an area is inundated in a given category, then it is also inundated in higher category storms. So inundated areas for each category are extracted by combining areas at risk for the given category and lower category storms. For instance, areas at risk for a category 3 storm would be obtained by combining areas for category 1-3 storms.\n",
    "- ACS data: Clipped to inundation area for each category of storm."
   ]
  },
  {
   "cell_type": "code",
   "execution_count": null,
   "id": "15dec46a-1391-4e09-a791-67afa7243177",
   "metadata": {},
   "outputs": [],
   "source": [
    "def get_category_surge(category):\n",
    "    surge_category = surge[surge['HES_ZONE']<=category]\n",
    "    return surge_category\n",
    "\n",
    "def get_category_acs(category):\n",
    "    acs_data_category = gpd.clip(acs_data, get_category_surge(category))\n",
    "    return acs_data_category"
   ]
  },
  {
   "cell_type": "markdown",
   "id": "5babd686-a030-4a7e-a400-bdc6ece608de",
   "metadata": {},
   "source": [
    "Further, we create visualizations to help understand the spatial distribution of various attributes of interest. These attributes indicate the impact of the storm of people and infrastructure. Visualization are enabled using choropleth maps for each storm category to help planners understand the resources required for evacuation and preparedness."
   ]
  },
  {
   "cell_type": "code",
   "execution_count": null,
   "id": "a2b27de3-b140-4567-91b5-19765e7cdfef",
   "metadata": {},
   "outputs": [],
   "source": [
    "# Create two dropdowns for storm category and attribute to be visulaized\n",
    "\n",
    "storm_category = widgets.Dropdown(\n",
    "    options=['1', '2', '3', '4', '5'],\n",
    "    value='5',\n",
    "    description='Category of storm',\n",
    "    disabled=False,\n",
    ")\n",
    "\n",
    "quantity = widgets.Dropdown(\n",
    "    options=[('Total population', 'total_pop'), ('Median age', 'median_age'), \n",
    "             ('Population over 65', 'pop_over_65'), ('Population under 10', 'pop_under_10'), \n",
    "             ('Median income', 'median_income'), ('Percentage below poverty', 'percent_below_poverty'),\n",
    "             ('Total housing units', 'total_units'), ('Units built before 1950', 'built_before_1950')],\n",
    "    value='total_pop',\n",
    "    description='Quantity to plot',\n",
    ")"
   ]
  },
  {
   "cell_type": "code",
   "execution_count": null,
   "id": "1a0e4322-ff6d-477a-be49-443fdf6cec56",
   "metadata": {},
   "outputs": [],
   "source": [
    "# Function to get the maps and display them\n",
    "\n",
    "def get_category_map(button):\n",
    "    with output:\n",
    "        output.clear_output()      # Clear previous output\n",
    "        surge_category = get_category_surge(int(storm_category.value))\n",
    "        acs_data_category = get_category_acs(int(storm_category.value))\n",
    "\n",
    "        m = surge_category.explore(name=\"storm surge areas\", tiles=\"CartoDB positron\")\n",
    "        cols = acs_data_category.columns[2:]\n",
    "\n",
    "        acs_data_category.explore(m=m, name=quantity.value, column=quantity.value, \n",
    "                                  cmap=\"Reds\", scheme=\"naturalbreaks\", k=5,\n",
    "                                  style_kwds=dict(color=\"black\", weight=1, opacity=0.5, fillOpacity=1.0),\n",
    "                                  legend=True, legend_kwds=dict(colorbar=True),\n",
    "                                  popup=list(cols), tooltip=False,\n",
    "                                  )\n",
    "\n",
    "        folium.TileLayer(\"openstreetmap\", control=True, opacity=0.5, name=\"openstreetmap\").add_to(m)\n",
    "        folium.LayerControl().add_to(m)\n",
    "        display(m)"
   ]
  },
  {
   "cell_type": "code",
   "execution_count": null,
   "id": "d18c4a33-b36f-4083-98f6-e4d8ee3a2915",
   "metadata": {},
   "outputs": [],
   "source": [
    "# Arrange the dropdowns in the same line using HBox\n",
    "dropdown_box = widgets.HBox([storm_category, quantity])\n",
    "\n",
    "# Display the dropdowns\n",
    "display(dropdown_box)\n",
    "\n",
    "output = widgets.Output()\n",
    "\n",
    "# Create the button for generating maps\n",
    "button = widgets.Button(description='Get Plot')\n",
    "\n",
    "# Set up the button click event\n",
    "button.on_click(get_category_map)\n",
    "\n",
    "# Display the button and output area\n",
    "display(button)\n",
    "display(output)"
   ]
  },
  {
   "cell_type": "markdown",
   "id": "b319d14c-2b68-483a-80bc-b1c703a45448",
   "metadata": {},
   "source": [
    "#### Results"
   ]
  },
  {
   "cell_type": "code",
   "execution_count": null,
   "id": "5116e1f0-d606-4547-992b-31e9602ec463",
   "metadata": {},
   "outputs": [],
   "source": [
    "# Plot the total population and housing units impacted by each category of storm\n",
    "\n",
    "affected_cols = ['total_pop', 'pop_over_65', 'pop_under_10', 'total_units', 'built_before_1950']\n",
    "\n",
    "affected={}\n",
    "for category in range(1,6):\n",
    "    acs_category = get_category_acs(category)\n",
    "    affected[category] = {}\n",
    "    \n",
    "    for col in affected_cols:\n",
    "        affected[category][col] = sum(acs_category[col])\n",
    "\n",
    "affected_df = pd.DataFrame(affected).T\n",
    "axes = affected_df.plot.bar(rot=0, subplots=True, figsize=(10,20))"
   ]
  },
  {
   "cell_type": "code",
   "execution_count": null,
   "id": "e14e371e-209a-444c-929b-61f4b274a0d7",
   "metadata": {},
   "outputs": [],
   "source": [
    "affected_df = pd.DataFrame(affected)\n",
    "axes = affected_df.plot.bar(rot=0, figsize=(12,10))\n",
    "plt.ylabel('Number affected', size=24);\n",
    "plt.legend(title=\"Category of storm\", fontsize=20, fancybox=True)\n",
    "axes.tick_params(axis='x', labelsize=20)  # Increase x-axis tick font size\n",
    "axes.tick_params(axis='y', labelsize=20)  # Increase y-axis tick font size"
   ]
  },
  {
   "cell_type": "markdown",
   "id": "6ce9b17c-c0b1-492a-b714-14bb8c614748",
   "metadata": {},
   "source": [
    "- "
   ]
  },
  {
   "cell_type": "markdown",
   "id": "11d535e1-d011-4f8c-8b38-71f24bb183d0",
   "metadata": {},
   "source": [
    "#### Key observations\n",
    "\n",
    "- As the category of storm increases, the impact is higher. There is a significantly higher rise in numbers between category 2 to category 3 storms.\n",
    "\n",
    "- Certain areas may require additional resources and time for evacuation:\n",
    "    - Areas with high population (however, population density could be more indicative of bottlenecks). Specifically, areas where elderly people (over 65 years) and children (under 10 years) reside in larger numbers.\n",
    "    - Areas with large numbers of older housing units (built before 1950).\n",
    "    - Regions with lower median income or higher poverty levels (since recoverability from damage could be lower)."
   ]
  },
  {
   "cell_type": "code",
   "execution_count": null,
   "id": "785ba159-fe78-4d08-860f-9acaf5dae596",
   "metadata": {},
   "outputs": [],
   "source": []
  }
 ],
 "metadata": {
  "kernelspec": {
   "display_name": "Python 3-0.8.0",
   "language": "python",
   "name": "python3-0.8.0"
  },
  "language_info": {
   "codemirror_mode": {
    "name": "ipython",
    "version": 3
   },
   "file_extension": ".py",
   "mimetype": "text/x-python",
   "name": "python",
   "nbconvert_exporter": "python",
   "pygments_lexer": "ipython3",
   "version": "3.8.3"
  }
 },
 "nbformat": 4,
 "nbformat_minor": 5
}
